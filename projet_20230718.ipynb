{
  "nbformat": 4,
  "nbformat_minor": 0,
  "metadata": {
    "colab": {
      "provenance": [],
      "authorship_tag": "ABX9TyOG4i4xJ74j9Oq0aYWuVgpA",
      "include_colab_link": true
    },
    "kernelspec": {
      "name": "python3",
      "display_name": "Python 3"
    },
    "language_info": {
      "name": "python"
    }
  },
  "cells": [
    {
      "cell_type": "markdown",
      "metadata": {
        "id": "view-in-github",
        "colab_type": "text"
      },
      "source": [
        "<a href=\"https://colab.research.google.com/github/Antoinebousquet/tour_de_France_des_musees/blob/main/projet_20230718.ipynb\" target=\"_parent\"><img src=\"https://colab.research.google.com/assets/colab-badge.svg\" alt=\"Open In Colab\"/></a>"
      ]
    },
    {
      "cell_type": "code",
      "source": [
        "from google.colab import files\n",
        "\n",
        "\n",
        "uploaded = files.upload()"
      ],
      "metadata": {
        "colab": {
          "base_uri": "https://localhost:8080/",
          "height": 77
        },
        "id": "dLx8OrC686HA",
        "outputId": "9f2f19ed-b738-486e-c7c5-7a9ba8a89376"
      },
      "execution_count": 29,
      "outputs": [
        {
          "output_type": "display_data",
          "data": {
            "text/plain": [
              "<IPython.core.display.HTML object>"
            ],
            "text/html": [
              "\n",
              "     <input type=\"file\" id=\"files-6b0cbf13-7fc7-4236-b421-fd43aa670295\" name=\"files[]\" multiple disabled\n",
              "        style=\"border:none\" />\n",
              "     <output id=\"result-6b0cbf13-7fc7-4236-b421-fd43aa670295\">\n",
              "      Upload widget is only available when the cell has been executed in the\n",
              "      current browser session. Please rerun this cell to enable.\n",
              "      </output>\n",
              "      <script>// Copyright 2017 Google LLC\n",
              "//\n",
              "// Licensed under the Apache License, Version 2.0 (the \"License\");\n",
              "// you may not use this file except in compliance with the License.\n",
              "// You may obtain a copy of the License at\n",
              "//\n",
              "//      http://www.apache.org/licenses/LICENSE-2.0\n",
              "//\n",
              "// Unless required by applicable law or agreed to in writing, software\n",
              "// distributed under the License is distributed on an \"AS IS\" BASIS,\n",
              "// WITHOUT WARRANTIES OR CONDITIONS OF ANY KIND, either express or implied.\n",
              "// See the License for the specific language governing permissions and\n",
              "// limitations under the License.\n",
              "\n",
              "/**\n",
              " * @fileoverview Helpers for google.colab Python module.\n",
              " */\n",
              "(function(scope) {\n",
              "function span(text, styleAttributes = {}) {\n",
              "  const element = document.createElement('span');\n",
              "  element.textContent = text;\n",
              "  for (const key of Object.keys(styleAttributes)) {\n",
              "    element.style[key] = styleAttributes[key];\n",
              "  }\n",
              "  return element;\n",
              "}\n",
              "\n",
              "// Max number of bytes which will be uploaded at a time.\n",
              "const MAX_PAYLOAD_SIZE = 100 * 1024;\n",
              "\n",
              "function _uploadFiles(inputId, outputId) {\n",
              "  const steps = uploadFilesStep(inputId, outputId);\n",
              "  const outputElement = document.getElementById(outputId);\n",
              "  // Cache steps on the outputElement to make it available for the next call\n",
              "  // to uploadFilesContinue from Python.\n",
              "  outputElement.steps = steps;\n",
              "\n",
              "  return _uploadFilesContinue(outputId);\n",
              "}\n",
              "\n",
              "// This is roughly an async generator (not supported in the browser yet),\n",
              "// where there are multiple asynchronous steps and the Python side is going\n",
              "// to poll for completion of each step.\n",
              "// This uses a Promise to block the python side on completion of each step,\n",
              "// then passes the result of the previous step as the input to the next step.\n",
              "function _uploadFilesContinue(outputId) {\n",
              "  const outputElement = document.getElementById(outputId);\n",
              "  const steps = outputElement.steps;\n",
              "\n",
              "  const next = steps.next(outputElement.lastPromiseValue);\n",
              "  return Promise.resolve(next.value.promise).then((value) => {\n",
              "    // Cache the last promise value to make it available to the next\n",
              "    // step of the generator.\n",
              "    outputElement.lastPromiseValue = value;\n",
              "    return next.value.response;\n",
              "  });\n",
              "}\n",
              "\n",
              "/**\n",
              " * Generator function which is called between each async step of the upload\n",
              " * process.\n",
              " * @param {string} inputId Element ID of the input file picker element.\n",
              " * @param {string} outputId Element ID of the output display.\n",
              " * @return {!Iterable<!Object>} Iterable of next steps.\n",
              " */\n",
              "function* uploadFilesStep(inputId, outputId) {\n",
              "  const inputElement = document.getElementById(inputId);\n",
              "  inputElement.disabled = false;\n",
              "\n",
              "  const outputElement = document.getElementById(outputId);\n",
              "  outputElement.innerHTML = '';\n",
              "\n",
              "  const pickedPromise = new Promise((resolve) => {\n",
              "    inputElement.addEventListener('change', (e) => {\n",
              "      resolve(e.target.files);\n",
              "    });\n",
              "  });\n",
              "\n",
              "  const cancel = document.createElement('button');\n",
              "  inputElement.parentElement.appendChild(cancel);\n",
              "  cancel.textContent = 'Cancel upload';\n",
              "  const cancelPromise = new Promise((resolve) => {\n",
              "    cancel.onclick = () => {\n",
              "      resolve(null);\n",
              "    };\n",
              "  });\n",
              "\n",
              "  // Wait for the user to pick the files.\n",
              "  const files = yield {\n",
              "    promise: Promise.race([pickedPromise, cancelPromise]),\n",
              "    response: {\n",
              "      action: 'starting',\n",
              "    }\n",
              "  };\n",
              "\n",
              "  cancel.remove();\n",
              "\n",
              "  // Disable the input element since further picks are not allowed.\n",
              "  inputElement.disabled = true;\n",
              "\n",
              "  if (!files) {\n",
              "    return {\n",
              "      response: {\n",
              "        action: 'complete',\n",
              "      }\n",
              "    };\n",
              "  }\n",
              "\n",
              "  for (const file of files) {\n",
              "    const li = document.createElement('li');\n",
              "    li.append(span(file.name, {fontWeight: 'bold'}));\n",
              "    li.append(span(\n",
              "        `(${file.type || 'n/a'}) - ${file.size} bytes, ` +\n",
              "        `last modified: ${\n",
              "            file.lastModifiedDate ? file.lastModifiedDate.toLocaleDateString() :\n",
              "                                    'n/a'} - `));\n",
              "    const percent = span('0% done');\n",
              "    li.appendChild(percent);\n",
              "\n",
              "    outputElement.appendChild(li);\n",
              "\n",
              "    const fileDataPromise = new Promise((resolve) => {\n",
              "      const reader = new FileReader();\n",
              "      reader.onload = (e) => {\n",
              "        resolve(e.target.result);\n",
              "      };\n",
              "      reader.readAsArrayBuffer(file);\n",
              "    });\n",
              "    // Wait for the data to be ready.\n",
              "    let fileData = yield {\n",
              "      promise: fileDataPromise,\n",
              "      response: {\n",
              "        action: 'continue',\n",
              "      }\n",
              "    };\n",
              "\n",
              "    // Use a chunked sending to avoid message size limits. See b/62115660.\n",
              "    let position = 0;\n",
              "    do {\n",
              "      const length = Math.min(fileData.byteLength - position, MAX_PAYLOAD_SIZE);\n",
              "      const chunk = new Uint8Array(fileData, position, length);\n",
              "      position += length;\n",
              "\n",
              "      const base64 = btoa(String.fromCharCode.apply(null, chunk));\n",
              "      yield {\n",
              "        response: {\n",
              "          action: 'append',\n",
              "          file: file.name,\n",
              "          data: base64,\n",
              "        },\n",
              "      };\n",
              "\n",
              "      let percentDone = fileData.byteLength === 0 ?\n",
              "          100 :\n",
              "          Math.round((position / fileData.byteLength) * 100);\n",
              "      percent.textContent = `${percentDone}% done`;\n",
              "\n",
              "    } while (position < fileData.byteLength);\n",
              "  }\n",
              "\n",
              "  // All done.\n",
              "  yield {\n",
              "    response: {\n",
              "      action: 'complete',\n",
              "    }\n",
              "  };\n",
              "}\n",
              "\n",
              "scope.google = scope.google || {};\n",
              "scope.google.colab = scope.google.colab || {};\n",
              "scope.google.colab._files = {\n",
              "  _uploadFiles,\n",
              "  _uploadFilesContinue,\n",
              "};\n",
              "})(self);\n",
              "</script> "
            ]
          },
          "metadata": {}
        },
        {
          "output_type": "stream",
          "name": "stdout",
          "text": [
            "Saving liste-des-musees-de-france-2021.csv to liste-des-musees-de-france-2021.csv\n"
          ]
        }
      ]
    },
    {
      "cell_type": "code",
      "source": [
        "import pandas as pd\n",
        "\n",
        "donnees_ville = pd.read_csv('liste-des-musees-de-france-2021.csv')\n",
        "display(donnees_ville)"
      ],
      "metadata": {
        "colab": {
          "base_uri": "https://localhost:8080/",
          "height": 731
        },
        "id": "37ISP69c9OMi",
        "outputId": "f3b774ab-2e04-4645-ca57-75ab0b405beb"
      },
      "execution_count": 32,
      "outputs": [
        {
          "output_type": "display_data",
          "data": {
            "text/plain": [
              "          osm_id                                  name number  \\\n",
              "0     4540234591                               3 bis f    109   \n",
              "1     4388745689                      A casa di Losari    NaN   \n",
              "2     4426176194                      À l'homme volant     35   \n",
              "3     7652598615           Abbadiale - Maison des arts    NaN   \n",
              "4      121580330                                Abbaye    NaN   \n",
              "...          ...                                   ...    ...   \n",
              "3779  1348524503                    Vivarium du Moulin    NaN   \n",
              "3780   577287841  Voyage au Temps des impressionnistes    NaN   \n",
              "3781   145062184              Wines and Spirits Museum    NaN   \n",
              "3782    82988725                              Xanxotea    NaN   \n",
              "3783   277107550      Xylotheque - Kiosque Pedagogique    NaN   \n",
              "\n",
              "                          street  postal_code              city country  \\\n",
              "0     Avenue du Petit Barthélémy      13617.0   Aix-en-Provence  France   \n",
              "1                           T 30      20226.0         Belgodère  France   \n",
              "2                     Grande Rue      72300.0  Sablé-sur-Sarthe  France   \n",
              "3                 Rue du Gabizos      65400.0  Arras-en-Lavedan  France   \n",
              "4                Rue de l'Abbaye      39210.0    Château-Chalon  France   \n",
              "...                          ...          ...               ...     ...   \n",
              "3779              Rue Principale      68610.0  Thann-Guebwiller  France   \n",
              "3780                 Rue de Léry      95430.0   Auvers-sur-Oise  France   \n",
              "3781          Corniche Bonaparte      83150.0            Bandol  France   \n",
              "3782                    La Place      64240.0          Isturits  France   \n",
              "3783     Impasse de la Haie Vive      45590.0  Saint-Cyr-en-Val  France   \n",
              "\n",
              "     country_code        lat       lon                    website  \\\n",
              "0              fr  43.521207  5.439875       http://www.3bisf.com   \n",
              "1              fr  42.638732  9.007660                        NaN   \n",
              "2              fr  47.839656 -0.334043                        NaN   \n",
              "3              fr  42.990826 -0.128057  https://www.abbadiale.fr/   \n",
              "4              fr  46.753866  5.624296                        NaN   \n",
              "...           ...        ...       ...                        ...   \n",
              "3779           fr  47.942258  7.149613                        NaN   \n",
              "3780           fr  49.072057  2.166167                        NaN   \n",
              "3781           fr  43.128031  5.749484                        NaN   \n",
              "3782           fr  43.364834 -1.203580   http://www.xanxotea.com/   \n",
              "3783           fr  47.825888  1.967795                        NaN   \n",
              "\n",
              "                  email         phone  fax  \\\n",
              "0     contact@3bisf.com  3.344216e+10  NaN   \n",
              "1                   NaN           NaN  NaN   \n",
              "2                   NaN  3.324395e+10  NaN   \n",
              "3                   NaN  3.363317e+10  NaN   \n",
              "4                   NaN           NaN  NaN   \n",
              "...                 ...           ...  ...   \n",
              "3779                NaN           NaN  NaN   \n",
              "3780                NaN           NaN  NaN   \n",
              "3781                NaN           NaN  NaN   \n",
              "3782                NaN           NaN  NaN   \n",
              "3783                NaN           NaN  NaN   \n",
              "\n",
              "                                         tags  \\\n",
              "0             osm:museum;art:art contemporain   \n",
              "1                                  osm:museum   \n",
              "2     osm:museum;type:centre d'interpretation   \n",
              "3                                  osm:museum   \n",
              "4                 osm:museum;art:architecture   \n",
              "...                                       ...   \n",
              "3779                               osm:museum   \n",
              "3780                               osm:museum   \n",
              "3781                               osm:museum   \n",
              "3782                               osm:museum   \n",
              "3783                               osm:museum   \n",
              "\n",
              "                                            description   date_added wikidata  \n",
              "0                                                   NaN  44116,00764      NaN  \n",
              "1                                                   NaN   43338,9394      NaN  \n",
              "2                                                   NaN  42644,46366      NaN  \n",
              "3                                                   NaN  44120,04668      NaN  \n",
              "4                                                   NaN  43102,54919      NaN  \n",
              "...                                                 ...          ...      ...  \n",
              "3779                                                NaN  40747,87175      NaN  \n",
              "3780                                                NaN  41141,72722      NaN  \n",
              "3781                                                NaN  42367,71351      NaN  \n",
              "3782  Musée ethnographique Xanxotea pour découvrir l...  44129,58078      NaN  \n",
              "3783                                                NaN  43331,47584      NaN  \n",
              "\n",
              "[3784 rows x 18 columns]"
            ],
            "text/html": [
              "\n",
              "\n",
              "  <div id=\"df-60161305-db12-4a4c-9674-c6ec130f63e1\">\n",
              "    <div class=\"colab-df-container\">\n",
              "      <div>\n",
              "<style scoped>\n",
              "    .dataframe tbody tr th:only-of-type {\n",
              "        vertical-align: middle;\n",
              "    }\n",
              "\n",
              "    .dataframe tbody tr th {\n",
              "        vertical-align: top;\n",
              "    }\n",
              "\n",
              "    .dataframe thead th {\n",
              "        text-align: right;\n",
              "    }\n",
              "</style>\n",
              "<table border=\"1\" class=\"dataframe\">\n",
              "  <thead>\n",
              "    <tr style=\"text-align: right;\">\n",
              "      <th></th>\n",
              "      <th>osm_id</th>\n",
              "      <th>name</th>\n",
              "      <th>number</th>\n",
              "      <th>street</th>\n",
              "      <th>postal_code</th>\n",
              "      <th>city</th>\n",
              "      <th>country</th>\n",
              "      <th>country_code</th>\n",
              "      <th>lat</th>\n",
              "      <th>lon</th>\n",
              "      <th>website</th>\n",
              "      <th>email</th>\n",
              "      <th>phone</th>\n",
              "      <th>fax</th>\n",
              "      <th>tags</th>\n",
              "      <th>description</th>\n",
              "      <th>date_added</th>\n",
              "      <th>wikidata</th>\n",
              "    </tr>\n",
              "  </thead>\n",
              "  <tbody>\n",
              "    <tr>\n",
              "      <th>0</th>\n",
              "      <td>4540234591</td>\n",
              "      <td>3 bis f</td>\n",
              "      <td>109</td>\n",
              "      <td>Avenue du Petit Barthélémy</td>\n",
              "      <td>13617.0</td>\n",
              "      <td>Aix-en-Provence</td>\n",
              "      <td>France</td>\n",
              "      <td>fr</td>\n",
              "      <td>43.521207</td>\n",
              "      <td>5.439875</td>\n",
              "      <td>http://www.3bisf.com</td>\n",
              "      <td>contact@3bisf.com</td>\n",
              "      <td>3.344216e+10</td>\n",
              "      <td>NaN</td>\n",
              "      <td>osm:museum;art:art contemporain</td>\n",
              "      <td>NaN</td>\n",
              "      <td>44116,00764</td>\n",
              "      <td>NaN</td>\n",
              "    </tr>\n",
              "    <tr>\n",
              "      <th>1</th>\n",
              "      <td>4388745689</td>\n",
              "      <td>A casa di Losari</td>\n",
              "      <td>NaN</td>\n",
              "      <td>T 30</td>\n",
              "      <td>20226.0</td>\n",
              "      <td>Belgodère</td>\n",
              "      <td>France</td>\n",
              "      <td>fr</td>\n",
              "      <td>42.638732</td>\n",
              "      <td>9.007660</td>\n",
              "      <td>NaN</td>\n",
              "      <td>NaN</td>\n",
              "      <td>NaN</td>\n",
              "      <td>NaN</td>\n",
              "      <td>osm:museum</td>\n",
              "      <td>NaN</td>\n",
              "      <td>43338,9394</td>\n",
              "      <td>NaN</td>\n",
              "    </tr>\n",
              "    <tr>\n",
              "      <th>2</th>\n",
              "      <td>4426176194</td>\n",
              "      <td>À l'homme volant</td>\n",
              "      <td>35</td>\n",
              "      <td>Grande Rue</td>\n",
              "      <td>72300.0</td>\n",
              "      <td>Sablé-sur-Sarthe</td>\n",
              "      <td>France</td>\n",
              "      <td>fr</td>\n",
              "      <td>47.839656</td>\n",
              "      <td>-0.334043</td>\n",
              "      <td>NaN</td>\n",
              "      <td>NaN</td>\n",
              "      <td>3.324395e+10</td>\n",
              "      <td>NaN</td>\n",
              "      <td>osm:museum;type:centre d'interpretation</td>\n",
              "      <td>NaN</td>\n",
              "      <td>42644,46366</td>\n",
              "      <td>NaN</td>\n",
              "    </tr>\n",
              "    <tr>\n",
              "      <th>3</th>\n",
              "      <td>7652598615</td>\n",
              "      <td>Abbadiale - Maison des arts</td>\n",
              "      <td>NaN</td>\n",
              "      <td>Rue du Gabizos</td>\n",
              "      <td>65400.0</td>\n",
              "      <td>Arras-en-Lavedan</td>\n",
              "      <td>France</td>\n",
              "      <td>fr</td>\n",
              "      <td>42.990826</td>\n",
              "      <td>-0.128057</td>\n",
              "      <td>https://www.abbadiale.fr/</td>\n",
              "      <td>NaN</td>\n",
              "      <td>3.363317e+10</td>\n",
              "      <td>NaN</td>\n",
              "      <td>osm:museum</td>\n",
              "      <td>NaN</td>\n",
              "      <td>44120,04668</td>\n",
              "      <td>NaN</td>\n",
              "    </tr>\n",
              "    <tr>\n",
              "      <th>4</th>\n",
              "      <td>121580330</td>\n",
              "      <td>Abbaye</td>\n",
              "      <td>NaN</td>\n",
              "      <td>Rue de l'Abbaye</td>\n",
              "      <td>39210.0</td>\n",
              "      <td>Château-Chalon</td>\n",
              "      <td>France</td>\n",
              "      <td>fr</td>\n",
              "      <td>46.753866</td>\n",
              "      <td>5.624296</td>\n",
              "      <td>NaN</td>\n",
              "      <td>NaN</td>\n",
              "      <td>NaN</td>\n",
              "      <td>NaN</td>\n",
              "      <td>osm:museum;art:architecture</td>\n",
              "      <td>NaN</td>\n",
              "      <td>43102,54919</td>\n",
              "      <td>NaN</td>\n",
              "    </tr>\n",
              "    <tr>\n",
              "      <th>...</th>\n",
              "      <td>...</td>\n",
              "      <td>...</td>\n",
              "      <td>...</td>\n",
              "      <td>...</td>\n",
              "      <td>...</td>\n",
              "      <td>...</td>\n",
              "      <td>...</td>\n",
              "      <td>...</td>\n",
              "      <td>...</td>\n",
              "      <td>...</td>\n",
              "      <td>...</td>\n",
              "      <td>...</td>\n",
              "      <td>...</td>\n",
              "      <td>...</td>\n",
              "      <td>...</td>\n",
              "      <td>...</td>\n",
              "      <td>...</td>\n",
              "      <td>...</td>\n",
              "    </tr>\n",
              "    <tr>\n",
              "      <th>3779</th>\n",
              "      <td>1348524503</td>\n",
              "      <td>Vivarium du Moulin</td>\n",
              "      <td>NaN</td>\n",
              "      <td>Rue Principale</td>\n",
              "      <td>68610.0</td>\n",
              "      <td>Thann-Guebwiller</td>\n",
              "      <td>France</td>\n",
              "      <td>fr</td>\n",
              "      <td>47.942258</td>\n",
              "      <td>7.149613</td>\n",
              "      <td>NaN</td>\n",
              "      <td>NaN</td>\n",
              "      <td>NaN</td>\n",
              "      <td>NaN</td>\n",
              "      <td>osm:museum</td>\n",
              "      <td>NaN</td>\n",
              "      <td>40747,87175</td>\n",
              "      <td>NaN</td>\n",
              "    </tr>\n",
              "    <tr>\n",
              "      <th>3780</th>\n",
              "      <td>577287841</td>\n",
              "      <td>Voyage au Temps des impressionnistes</td>\n",
              "      <td>NaN</td>\n",
              "      <td>Rue de Léry</td>\n",
              "      <td>95430.0</td>\n",
              "      <td>Auvers-sur-Oise</td>\n",
              "      <td>France</td>\n",
              "      <td>fr</td>\n",
              "      <td>49.072057</td>\n",
              "      <td>2.166167</td>\n",
              "      <td>NaN</td>\n",
              "      <td>NaN</td>\n",
              "      <td>NaN</td>\n",
              "      <td>NaN</td>\n",
              "      <td>osm:museum</td>\n",
              "      <td>NaN</td>\n",
              "      <td>41141,72722</td>\n",
              "      <td>NaN</td>\n",
              "    </tr>\n",
              "    <tr>\n",
              "      <th>3781</th>\n",
              "      <td>145062184</td>\n",
              "      <td>Wines and Spirits Museum</td>\n",
              "      <td>NaN</td>\n",
              "      <td>Corniche Bonaparte</td>\n",
              "      <td>83150.0</td>\n",
              "      <td>Bandol</td>\n",
              "      <td>France</td>\n",
              "      <td>fr</td>\n",
              "      <td>43.128031</td>\n",
              "      <td>5.749484</td>\n",
              "      <td>NaN</td>\n",
              "      <td>NaN</td>\n",
              "      <td>NaN</td>\n",
              "      <td>NaN</td>\n",
              "      <td>osm:museum</td>\n",
              "      <td>NaN</td>\n",
              "      <td>42367,71351</td>\n",
              "      <td>NaN</td>\n",
              "    </tr>\n",
              "    <tr>\n",
              "      <th>3782</th>\n",
              "      <td>82988725</td>\n",
              "      <td>Xanxotea</td>\n",
              "      <td>NaN</td>\n",
              "      <td>La Place</td>\n",
              "      <td>64240.0</td>\n",
              "      <td>Isturits</td>\n",
              "      <td>France</td>\n",
              "      <td>fr</td>\n",
              "      <td>43.364834</td>\n",
              "      <td>-1.203580</td>\n",
              "      <td>http://www.xanxotea.com/</td>\n",
              "      <td>NaN</td>\n",
              "      <td>NaN</td>\n",
              "      <td>NaN</td>\n",
              "      <td>osm:museum</td>\n",
              "      <td>Musée ethnographique Xanxotea pour découvrir l...</td>\n",
              "      <td>44129,58078</td>\n",
              "      <td>NaN</td>\n",
              "    </tr>\n",
              "    <tr>\n",
              "      <th>3783</th>\n",
              "      <td>277107550</td>\n",
              "      <td>Xylotheque - Kiosque Pedagogique</td>\n",
              "      <td>NaN</td>\n",
              "      <td>Impasse de la Haie Vive</td>\n",
              "      <td>45590.0</td>\n",
              "      <td>Saint-Cyr-en-Val</td>\n",
              "      <td>France</td>\n",
              "      <td>fr</td>\n",
              "      <td>47.825888</td>\n",
              "      <td>1.967795</td>\n",
              "      <td>NaN</td>\n",
              "      <td>NaN</td>\n",
              "      <td>NaN</td>\n",
              "      <td>NaN</td>\n",
              "      <td>osm:museum</td>\n",
              "      <td>NaN</td>\n",
              "      <td>43331,47584</td>\n",
              "      <td>NaN</td>\n",
              "    </tr>\n",
              "  </tbody>\n",
              "</table>\n",
              "<p>3784 rows × 18 columns</p>\n",
              "</div>\n",
              "      <button class=\"colab-df-convert\" onclick=\"convertToInteractive('df-60161305-db12-4a4c-9674-c6ec130f63e1')\"\n",
              "              title=\"Convert this dataframe to an interactive table.\"\n",
              "              style=\"display:none;\">\n",
              "\n",
              "  <svg xmlns=\"http://www.w3.org/2000/svg\" height=\"24px\"viewBox=\"0 0 24 24\"\n",
              "       width=\"24px\">\n",
              "    <path d=\"M0 0h24v24H0V0z\" fill=\"none\"/>\n",
              "    <path d=\"M18.56 5.44l.94 2.06.94-2.06 2.06-.94-2.06-.94-.94-2.06-.94 2.06-2.06.94zm-11 1L8.5 8.5l.94-2.06 2.06-.94-2.06-.94L8.5 2.5l-.94 2.06-2.06.94zm10 10l.94 2.06.94-2.06 2.06-.94-2.06-.94-.94-2.06-.94 2.06-2.06.94z\"/><path d=\"M17.41 7.96l-1.37-1.37c-.4-.4-.92-.59-1.43-.59-.52 0-1.04.2-1.43.59L10.3 9.45l-7.72 7.72c-.78.78-.78 2.05 0 2.83L4 21.41c.39.39.9.59 1.41.59.51 0 1.02-.2 1.41-.59l7.78-7.78 2.81-2.81c.8-.78.8-2.07 0-2.86zM5.41 20L4 18.59l7.72-7.72 1.47 1.35L5.41 20z\"/>\n",
              "  </svg>\n",
              "      </button>\n",
              "\n",
              "\n",
              "\n",
              "    <div id=\"df-28591f66-4317-4f09-862f-8784729cf481\">\n",
              "      <button class=\"colab-df-quickchart\" onclick=\"quickchart('df-28591f66-4317-4f09-862f-8784729cf481')\"\n",
              "              title=\"Suggest charts.\"\n",
              "              style=\"display:none;\">\n",
              "\n",
              "<svg xmlns=\"http://www.w3.org/2000/svg\" height=\"24px\"viewBox=\"0 0 24 24\"\n",
              "     width=\"24px\">\n",
              "    <g>\n",
              "        <path d=\"M19 3H5c-1.1 0-2 .9-2 2v14c0 1.1.9 2 2 2h14c1.1 0 2-.9 2-2V5c0-1.1-.9-2-2-2zM9 17H7v-7h2v7zm4 0h-2V7h2v10zm4 0h-2v-4h2v4z\"/>\n",
              "    </g>\n",
              "</svg>\n",
              "      </button>\n",
              "    </div>\n",
              "\n",
              "<style>\n",
              "  .colab-df-quickchart {\n",
              "    background-color: #E8F0FE;\n",
              "    border: none;\n",
              "    border-radius: 50%;\n",
              "    cursor: pointer;\n",
              "    display: none;\n",
              "    fill: #1967D2;\n",
              "    height: 32px;\n",
              "    padding: 0 0 0 0;\n",
              "    width: 32px;\n",
              "  }\n",
              "\n",
              "  .colab-df-quickchart:hover {\n",
              "    background-color: #E2EBFA;\n",
              "    box-shadow: 0px 1px 2px rgba(60, 64, 67, 0.3), 0px 1px 3px 1px rgba(60, 64, 67, 0.15);\n",
              "    fill: #174EA6;\n",
              "  }\n",
              "\n",
              "  [theme=dark] .colab-df-quickchart {\n",
              "    background-color: #3B4455;\n",
              "    fill: #D2E3FC;\n",
              "  }\n",
              "\n",
              "  [theme=dark] .colab-df-quickchart:hover {\n",
              "    background-color: #434B5C;\n",
              "    box-shadow: 0px 1px 3px 1px rgba(0, 0, 0, 0.15);\n",
              "    filter: drop-shadow(0px 1px 2px rgba(0, 0, 0, 0.3));\n",
              "    fill: #FFFFFF;\n",
              "  }\n",
              "</style>\n",
              "\n",
              "    <script>\n",
              "      async function quickchart(key) {\n",
              "        const containerElement = document.querySelector('#' + key);\n",
              "        const charts = await google.colab.kernel.invokeFunction(\n",
              "            'suggestCharts', [key], {});\n",
              "      }\n",
              "    </script>\n",
              "\n",
              "      <script>\n",
              "\n",
              "function displayQuickchartButton(domScope) {\n",
              "  let quickchartButtonEl =\n",
              "    domScope.querySelector('#df-28591f66-4317-4f09-862f-8784729cf481 button.colab-df-quickchart');\n",
              "  quickchartButtonEl.style.display =\n",
              "    google.colab.kernel.accessAllowed ? 'block' : 'none';\n",
              "}\n",
              "\n",
              "        displayQuickchartButton(document);\n",
              "      </script>\n",
              "      <style>\n",
              "    .colab-df-container {\n",
              "      display:flex;\n",
              "      flex-wrap:wrap;\n",
              "      gap: 12px;\n",
              "    }\n",
              "\n",
              "    .colab-df-convert {\n",
              "      background-color: #E8F0FE;\n",
              "      border: none;\n",
              "      border-radius: 50%;\n",
              "      cursor: pointer;\n",
              "      display: none;\n",
              "      fill: #1967D2;\n",
              "      height: 32px;\n",
              "      padding: 0 0 0 0;\n",
              "      width: 32px;\n",
              "    }\n",
              "\n",
              "    .colab-df-convert:hover {\n",
              "      background-color: #E2EBFA;\n",
              "      box-shadow: 0px 1px 2px rgba(60, 64, 67, 0.3), 0px 1px 3px 1px rgba(60, 64, 67, 0.15);\n",
              "      fill: #174EA6;\n",
              "    }\n",
              "\n",
              "    [theme=dark] .colab-df-convert {\n",
              "      background-color: #3B4455;\n",
              "      fill: #D2E3FC;\n",
              "    }\n",
              "\n",
              "    [theme=dark] .colab-df-convert:hover {\n",
              "      background-color: #434B5C;\n",
              "      box-shadow: 0px 1px 3px 1px rgba(0, 0, 0, 0.15);\n",
              "      filter: drop-shadow(0px 1px 2px rgba(0, 0, 0, 0.3));\n",
              "      fill: #FFFFFF;\n",
              "    }\n",
              "  </style>\n",
              "\n",
              "      <script>\n",
              "        const buttonEl =\n",
              "          document.querySelector('#df-60161305-db12-4a4c-9674-c6ec130f63e1 button.colab-df-convert');\n",
              "        buttonEl.style.display =\n",
              "          google.colab.kernel.accessAllowed ? 'block' : 'none';\n",
              "\n",
              "        async function convertToInteractive(key) {\n",
              "          const element = document.querySelector('#df-60161305-db12-4a4c-9674-c6ec130f63e1');\n",
              "          const dataTable =\n",
              "            await google.colab.kernel.invokeFunction('convertToInteractive',\n",
              "                                                     [key], {});\n",
              "          if (!dataTable) return;\n",
              "\n",
              "          const docLinkHtml = 'Like what you see? Visit the ' +\n",
              "            '<a target=\"_blank\" href=https://colab.research.google.com/notebooks/data_table.ipynb>data table notebook</a>'\n",
              "            + ' to learn more about interactive tables.';\n",
              "          element.innerHTML = '';\n",
              "          dataTable['output_type'] = 'display_data';\n",
              "          await google.colab.output.renderOutput(dataTable, element);\n",
              "          const docLink = document.createElement('div');\n",
              "          docLink.innerHTML = docLinkHtml;\n",
              "          element.appendChild(docLink);\n",
              "        }\n",
              "      </script>\n",
              "    </div>\n",
              "  </div>\n"
            ]
          },
          "metadata": {}
        }
      ]
    },
    {
      "cell_type": "markdown",
      "source": [
        "Combien y-a-t-il de musées en France métropolitaine ?"
      ],
      "metadata": {
        "id": "bsnwj6We-M-m"
      }
    },
    {
      "cell_type": "code",
      "source": [
        "len(donnees_ville.index)"
      ],
      "metadata": {
        "colab": {
          "base_uri": "https://localhost:8080/"
        },
        "id": "wBGi3XuG-Nz1",
        "outputId": "07b54988-1ab8-48a7-be9b-62d3c4dcf2bf"
      },
      "execution_count": 33,
      "outputs": [
        {
          "output_type": "execute_result",
          "data": {
            "text/plain": [
              "3784"
            ]
          },
          "metadata": {},
          "execution_count": 33
        }
      ]
    },
    {
      "cell_type": "markdown",
      "source": [
        "Dans quelle(s) ville(s) y-a-t-il de plus de musées ?"
      ],
      "metadata": {
        "id": "C80MT06j_uQh"
      }
    },
    {
      "cell_type": "code",
      "source": [
        "countsTown = donnees_ville['city'].value_counts()\n",
        "villePlusDeMusee = countsTown.idxmax()\n",
        "display(villePlusDeMusee)"
      ],
      "metadata": {
        "colab": {
          "base_uri": "https://localhost:8080/",
          "height": 36
        },
        "id": "uioOTs0P_xhy",
        "outputId": "6acc5ee0-d1e4-45b6-b6d5-45d50fb30764"
      },
      "execution_count": 44,
      "outputs": [
        {
          "output_type": "display_data",
          "data": {
            "text/plain": [
              "'Paris'"
            ],
            "application/vnd.google.colaboratory.intrinsic+json": {
              "type": "string"
            }
          },
          "metadata": {}
        }
      ]
    },
    {
      "cell_type": "markdown",
      "source": [
        "Quel est le nombre moyen de musées par ville ?"
      ],
      "metadata": {
        "id": "dgn-zzpuD4Ln"
      }
    },
    {
      "cell_type": "code",
      "source": [
        "averageTown = len(donnees_ville.index) / donnees_ville['city'].nunique()\n",
        "display(averageTown)"
      ],
      "metadata": {
        "colab": {
          "base_uri": "https://localhost:8080/",
          "height": 35
        },
        "id": "rwN_lHXHD9tT",
        "outputId": "5b9432eb-5e70-4344-9024-3f880b5b7726"
      },
      "execution_count": 47,
      "outputs": [
        {
          "output_type": "display_data",
          "data": {
            "text/plain": [
              "1.64880174291939"
            ]
          },
          "metadata": {}
        }
      ]
    },
    {
      "cell_type": "markdown",
      "source": [
        "Quel est le nombre médian de musées par ville ?"
      ],
      "metadata": {
        "id": "pI77VH7DE3ad"
      }
    },
    {
      "cell_type": "code",
      "source": [
        "medianTown = donnees_ville['city'].value_counts().median()\n",
        "display(medianTown)\n",
        "\n",
        "moyenneTown = donnees_ville['city'].value_counts().mean()\n",
        "display(moyenneTown)"
      ],
      "metadata": {
        "colab": {
          "base_uri": "https://localhost:8080/",
          "height": 54
        },
        "id": "0I79RgGoFN-M",
        "outputId": "ae12131a-0930-4e8e-9ef4-cc007d3f3577"
      },
      "execution_count": 54,
      "outputs": [
        {
          "output_type": "display_data",
          "data": {
            "text/plain": [
              "1.0"
            ]
          },
          "metadata": {}
        },
        {
          "output_type": "display_data",
          "data": {
            "text/plain": [
              "1.647930283224401"
            ]
          },
          "metadata": {}
        }
      ]
    },
    {
      "cell_type": "markdown",
      "source": [
        "Comment sont répartis les musées par type (en pourcentage) ?"
      ],
      "metadata": {
        "id": "jyuylkCMJRs9"
      }
    },
    {
      "cell_type": "code",
      "source": [
        "countsType = donnees_ville['tags'].value_counts()\n",
        "print(countsType)"
      ],
      "metadata": {
        "colab": {
          "base_uri": "https://localhost:8080/"
        },
        "id": "qUEU9SO0JUuE",
        "outputId": "87be1f19-7168-4c39-d842-e13bda842827"
      },
      "execution_count": 55,
      "outputs": [
        {
          "output_type": "stream",
          "name": "stdout",
          "text": [
            "osm:museum                                                                    2175\n",
            "osm:museum;type:ecomusee                                                       387\n",
            "osm:museum;type:musee technique et industriel                                  194\n",
            "osm:museum;type:musee d'histoire                                               132\n",
            "osm:museum;art:architecture                                                    121\n",
            "                                                                              ... \n",
            "osm:museum;gender:musee de couple;type:maison d'artiste                          1\n",
            "osm:museum;art:prehistoire;type:musee d'histoire naturelle                       1\n",
            "osm:museum;continent:art asiatique;type:centre d'art                             1\n",
            "osm:museum;type:musee d'artiste;type:musee litteraire;gender:musee d'homme       1\n",
            "osm:museum;gender:musee d'homme;type:musee de beaux-arts                         1\n",
            "Name: tags, Length: 119, dtype: int64\n"
          ]
        }
      ]
    },
    {
      "cell_type": "markdown",
      "source": [
        "Combien y-a-t-il de musées dont le nom commence par \"Château\" ?"
      ],
      "metadata": {
        "id": "9EFBpfZRLIF5"
      }
    },
    {
      "cell_type": "code",
      "source": [
        "countsCastle = (donnees_ville['name'].str.startswith('Château')).value_counts()\n",
        "print('Il y a ' + str(countsCastle[1]) + ' musées dont le nom commence par \"Château\".')"
      ],
      "metadata": {
        "colab": {
          "base_uri": "https://localhost:8080/"
        },
        "id": "MYAQA99PLXEi",
        "outputId": "11e21864-479f-4f9f-b831-92cc07b8aa43"
      },
      "execution_count": 93,
      "outputs": [
        {
          "output_type": "stream",
          "name": "stdout",
          "text": [
            "Il y a 57 musées dont le nom commence par \"Château\".\n"
          ]
        }
      ]
    },
    {
      "cell_type": "markdown",
      "source": [
        "Pour combien de musées dispose-t-on de l'adresse du site web ?"
      ],
      "metadata": {
        "id": "yzov506NSO4q"
      }
    },
    {
      "cell_type": "code",
      "source": [
        "countsMuseumWithWebsite = donnees_ville['website'].dropna().value_counts().sum()\n",
        "print('Nous disposons du site web de ' + str(countsMuseumWithWebsite) + ' musées.')"
      ],
      "metadata": {
        "colab": {
          "base_uri": "https://localhost:8080/"
        },
        "id": "_NDl0TcUSQKh",
        "outputId": "a4df6df9-f9c9-4316-e672-521693448bb0"
      },
      "execution_count": 113,
      "outputs": [
        {
          "output_type": "stream",
          "name": "stdout",
          "text": [
            "Nous disposons du site web de 1636 musées.\n"
          ]
        }
      ]
    },
    {
      "cell_type": "code",
      "source": [],
      "metadata": {
        "id": "ZUd2HrAJXCJl"
      },
      "execution_count": null,
      "outputs": []
    },
    {
      "cell_type": "markdown",
      "source": [
        "Quel département français possède le plus de musées sur son territoire ?"
      ],
      "metadata": {
        "id": "wqXPs1tIbbz6"
      }
    },
    {
      "cell_type": "code",
      "source": [
        "countsMuseumWithWebsite = (donnees_ville['postal_code'].value_counts())\n",
        "display(countsMuseumWithWebsite)\n",
        "#print('Nous disposons du site web de ' + str(countsMuseumWithWebsite) + ' musées.')"
      ],
      "metadata": {
        "colab": {
          "base_uri": "https://localhost:8080/",
          "height": 237
        },
        "id": "AA3uCpTkbddl",
        "outputId": "84cc1be6-9015-4174-a6e1-b5fe8b61d786"
      },
      "execution_count": 134,
      "outputs": [
        {
          "output_type": "display_data",
          "data": {
            "text/plain": [
              "75005.0    24\n",
              "38000.0    21\n",
              "33000.0    16\n",
              "75007.0    16\n",
              "75004.0    15\n",
              "           ..\n",
              "33290.0     1\n",
              "9220.0      1\n",
              "22340.0     1\n",
              "34450.0     1\n",
              "45590.0     1\n",
              "Name: postal_code, Length: 2023, dtype: int64"
            ]
          },
          "metadata": {}
        }
      ]
    }
  ]
}